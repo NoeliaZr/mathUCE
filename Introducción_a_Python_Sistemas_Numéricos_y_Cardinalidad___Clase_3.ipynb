{
  "nbformat": 4,
  "nbformat_minor": 0,
  "metadata": {
    "colab": {
      "provenance": [],
      "toc_visible": true
    },
    "kernelspec": {
      "name": "python3",
      "display_name": "Python 3"
    },
    "language_info": {
      "name": "python"
    }
  },
  "cells": [
    {
      "cell_type": "code",
      "execution_count": null,
      "metadata": {
        "id": "xDwoG7RzpUFp"
      },
      "outputs": [],
      "source": []
    },
    {
      "cell_type": "markdown",
      "source": [
        "# Introducción a Python. Sistemas Numéricos y Cardinalidad | Clase 3"
      ],
      "metadata": {
        "id": "8AhpT4yQrkP9"
      }
    },
    {
      "cell_type": "markdown",
      "source": [
        "\n",
        "### Introducción a Python\n",
        "\n",
        "Python es un lenguaje de programación interpretado, de alto nivel y de propósito general. Fue creado por Guido van Rossum y lanzado por primera vez en 1991. Python es conocido por su sintaxis clara y legible, lo que lo hace ideal para principiantes, así como por su capacidad para manejar tareas complejas, lo que lo convierte en una herramienta poderosa para desarrolladores experimentados.\n",
        "\n",
        "### Características de Python\n",
        "1. **Sintaxis simple y legible**: Python tiene una sintaxis que es fácil de leer y escribir.\n",
        "2. **Interpretado**: Python se ejecuta línea por línea, lo que facilita la depuración.\n",
        "3. **Multiplataforma**: Puede ejecutarse en diversos sistemas operativos como Windows, MacOS y Linux.\n",
        "4. **Versatilidad**: Se usa en diversas áreas como desarrollo web, ciencia de datos, automatización, inteligencia artificial, y más.\n",
        "5. **Amplia comunidad y bibliotecas**: Hay una vasta cantidad de recursos y bibliotecas disponibles que extienden las capacidades de Python.\n",
        "\n",
        "### Ejemplo básico en Python\n",
        "\n",
        "```python\n",
        "# Este es un comentario en Python\n",
        "print(\"¡Hola, mundo!\")\n",
        "```\n",
        "\n",
        "Este código simplemente imprime \"¡Hola, mundo!\" en la pantalla.\n",
        "\n",
        "### Sistemas Numéricos\n",
        "\n",
        "Un sistema numérico es un conjunto de valores utilizados para representar cantidades. Los más comunes son:\n",
        "\n",
        "1. **Sistema Decimal (Base 10)**: Utiliza los dígitos del 0 al 9.\n",
        "2. **Sistema Binario (Base 2)**: Utiliza los dígitos 0 y 1.\n",
        "3. **Sistema Octal (Base 8)**: Utiliza los dígitos del 0 al 7.\n",
        "4. **Sistema Hexadecimal (Base 16)**: Utiliza los dígitos del 0 al 9 y las letras de la A a la F.\n",
        "\n",
        "### Ejemplos:\n",
        "\n",
        "- **Decimal**: 123\n",
        "- **Binario**: 1111011 (equivalente a 123 en decimal)\n",
        "- **Octal**: 173 (equivalente a 123 en decimal)\n",
        "- **Hexadecimal**: 7B (equivalente a 123 en decimal)\n",
        "\n",
        "## Cardinalidad\n",
        "\n",
        "La cardinalidad se refiere al número de elementos en un conjunto. Es un concepto fundamental en teoría de conjuntos.\n",
        "\n",
        "### Ejemplos:\n",
        "\n",
        "- **Conjunto Finito**: {1, 2, 3} tiene una cardinalidad de 3.\n",
        "- **Conjunto Infinito**: Los números naturales \\(\\mathbb{N} = \\{1, 2, 3, 4, \\ldots\\}\\) tienen una cardinalidad infinita.\n",
        "\n",
        "### Cardinalidad en Python\n",
        "\n",
        "Podemos usar la función `len()` para determinar la cardinalidad de un conjunto en Python.\n",
        "\n",
        "```python\n",
        "# Ejemplo en Python para determinar la cardinalidad\n",
        "conjunto = {1, 2, 3, 4, 5}\n",
        "print(len(conjunto))  # Salida: 5\n",
        "```\n",
        "\n",
        "Este código crea un conjunto con 5 elementos y usa `len()` para imprimir su cardinalidad.\n",
        "\n"
      ],
      "metadata": {
        "id": "ULueChmNrt_I"
      }
    },
    {
      "cell_type": "markdown",
      "source": [
        "### Ejemplo de Conversión entre Sistemas Numéricos"
      ],
      "metadata": {
        "id": "lQ4zttdNugwJ"
      }
    },
    {
      "cell_type": "code",
      "source": [
        "# Conversión de decimal a binario, octal y hexadecimal\n",
        "decimal = 123\n",
        "\n",
        "# Decimal a binario\n",
        "binario = bin(decimal)\n",
        "print(f\"El número {decimal} en binario es: {binario}\")\n",
        "\n",
        "# Decimal a octal\n",
        "octal = oct(decimal)\n",
        "print(f\"El número {decimal} en octal es: {octal}\")\n",
        "\n",
        "# Decimal a hexadecimal\n",
        "hexadecimal = hex(decimal)\n",
        "print(f\"El número {decimal} en hexadecimal es: {hexadecimal}\")\n",
        "\n",
        "# Conversión inversa (binario, octal, hexadecimal a decimal)\n",
        "binario_a_decimal = int(binario, 2)\n",
        "octal_a_decimal = int(octal, 8)\n",
        "hexadecimal_a_decimal = int(hexadecimal, 16)\n",
        "\n",
        "print(f\"El binario {binario} en decimal es: {binario_a_decimal}\")\n",
        "print(f\"El octal {octal} en decimal es: {octal_a_decimal}\")\n",
        "print(f\"El hexadecimal {hexadecimal} en decimal es: {hexadecimal_a_decimal}\")"
      ],
      "metadata": {
        "colab": {
          "base_uri": "https://localhost:8080/"
        },
        "id": "F9ca9R4Iusxd",
        "outputId": "34bb5db0-c0fb-4c9e-dc8b-97186e37625f"
      },
      "execution_count": null,
      "outputs": [
        {
          "output_type": "stream",
          "name": "stdout",
          "text": [
            "El número 123 en binario es: 0b1111011\n",
            "El número 123 en octal es: 0o173\n",
            "El número 123 en hexadecimal es: 0x7b\n",
            "El binario 0b1111011 en decimal es: 123\n",
            "El octal 0o173 en decimal es: 123\n",
            "El hexadecimal 0x7b en decimal es: 123\n"
          ]
        }
      ]
    },
    {
      "cell_type": "markdown",
      "source": [
        "### Ejemplo de Cardinalidad de un Conjunto"
      ],
      "metadata": {
        "id": "GKq9VE7wuxoY"
      }
    },
    {
      "cell_type": "code",
      "source": [
        "# Definir un conjunto y calcular su cardinalidad\n",
        "conjunto = {1, 2, 3, 4, 5}\n",
        "cardinalidad = len(conjunto)\n",
        "print(f\"La cardinalidad del conjunto {conjunto} es: {cardinalidad}\")\n",
        "\n",
        "# Añadir y eliminar elementos del conjunto\n",
        "conjunto.add(6)\n",
        "print(f\"Conjunto después de añadir un elemento: {conjunto}\")\n",
        "print(f\"Nueva cardinalidad: {len(conjunto)}\")\n",
        "\n",
        "conjunto.remove(1)\n",
        "print(f\"Conjunto después de eliminar un elemento: {conjunto}\")\n",
        "print(f\"Nueva cardinalidad: {len(conjunto)}\")\n",
        "\n",
        "# Ejemplo con conjunto infinito (generador de números naturales)\n",
        "import itertools\n",
        "\n",
        "# Crear un generador de números naturales\n",
        "numeros_naturales = itertools.count(start=1, step=1)\n",
        "\n",
        "# Obtener los primeros 10 números naturales\n",
        "primeros_10_naturales = [next(numeros_naturales) for _ in range(10)]\n",
        "print(f\"Primeros 10 números naturales: {primeros_10_naturales}\")"
      ],
      "metadata": {
        "colab": {
          "base_uri": "https://localhost:8080/"
        },
        "id": "2J5r7ngku2y7",
        "outputId": "84cc8569-faac-4240-8f5a-10b7f1bf44f0"
      },
      "execution_count": null,
      "outputs": [
        {
          "output_type": "stream",
          "name": "stdout",
          "text": [
            "La cardinalidad del conjunto {1, 2, 3, 4, 5} es: 5\n",
            "Conjunto después de añadir un elemento: {1, 2, 3, 4, 5, 6}\n",
            "Nueva cardinalidad: 6\n",
            "Conjunto después de eliminar un elemento: {2, 3, 4, 5, 6}\n",
            "Nueva cardinalidad: 5\n",
            "Primeros 10 números naturales: [1, 2, 3, 4, 5, 6, 7, 8, 9, 10]\n"
          ]
        }
      ]
    },
    {
      "cell_type": "markdown",
      "source": [
        "Explicación\n",
        "Conversión entre Sistemas Numéricos:\n",
        "\n",
        "Usamos bin(), oct(), y hex() para convertir un número decimal a binario, octal y hexadecimal respectivamente.\n",
        "Utilizamos int() con la base adecuada (2, 8, 16) para convertir de vuelta a decimal.\n",
        "Cardinalidad de un Conjunto:\n",
        "\n",
        "Creamos un conjunto {1, 2, 3, 4, 5} y usamos len() para obtener su cardinalidad.\n",
        "Añadimos y eliminamos elementos del conjunto y volvemos a calcular la cardinalidad.\n",
        "Utilizamos itertools.count() para generar un conjunto infinito de números naturales y obtenemos los primeros 10 números de este generador."
      ],
      "metadata": {
        "id": "BiB8Cdjdu8TJ"
      }
    },
    {
      "cell_type": "markdown",
      "source": [],
      "metadata": {
        "id": "XozvYwJrvDNp"
      }
    }
  ]
}