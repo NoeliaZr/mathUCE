{
  "nbformat": 4,
  "nbformat_minor": 0,
  "metadata": {
    "colab": {
      "provenance": [],
      "toc_visible": true
    },
    "kernelspec": {
      "name": "python3",
      "display_name": "Python 3"
    },
    "language_info": {
      "name": "python"
    }
  },
  "cells": [
    {
      "cell_type": "code",
      "execution_count": null,
      "metadata": {
        "id": "xDwoG7RzpUFp"
      },
      "outputs": [],
      "source": []
    },
    {
      "cell_type": "markdown",
      "source": [
        "# Algoritmos y Sistemas Numéricos | Clase 2"
      ],
      "metadata": {
        "id": "E9sYCSVAW6xa"
      }
    },
    {
      "cell_type": "markdown",
      "source": [
        "### ALGORITMOS\n",
        "\n",
        "**Definición:**\n",
        "Un algoritmo es una secuencia de pasos definidos y finitos que se siguen para resolver un problema o realizar una tarea específica. Los algoritmos son fundamentales en la informática y las matemáticas, pero también se aplican en muchas otras disciplinas.\n",
        "\n",
        "** Ejemplos:**\n",
        "\n",
        "1. **Algoritmo de Ordenamiento por Inserción (Insertion Sort):**\n",
        "   Ordena una lista de elementos comparando cada elemento con los anteriores y colocándolo en la posición correcta.\n",
        "   **Pasos:**\n",
        "   1. Iterar desde el segundo elemento hasta el final de la lista.\n",
        "   2. Comparar el elemento actual con los anteriores y moverlo a la posición correcta.\n",
        "   3. Repetir hasta que toda la lista esté ordenada.\n",
        "\n",
        "2. **Algoritmo de Búsqueda Lineal:**\n",
        "   Busca un elemento en una lista comparándolo secuencialmente con cada elemento.\n",
        "   **Pasos:**\n",
        "   1. Comenzar en el primer elemento de la lista.\n",
        "   2. Comparar el elemento actual con el elemento buscado.\n",
        "   3. Si coinciden, devolver la posición.\n",
        "   4. Si no coinciden, pasar al siguiente elemento.\n",
        "   5. Repetir hasta encontrar el elemento o llegar al final de la lista.\n",
        "\n",
        "3. **Algoritmo de Euclides para el Máximo Común Divisor (MCD):**\n",
        "   Calcula el MCD de dos números enteros usando el método de la división repetida.\n",
        "   **Pasos:**\n",
        "   1. Tomar dos números, \\( a \\) y \\( b \\).\n",
        "   2. Mientras \\( b \\) no sea cero, realizar \\( a = b \\) y \\( b = a \\mod b \\).\n",
        "   3. Cuando \\( b \\) sea cero, \\( a \\) es el MCD.\n",
        "\n",
        "\n",
        "### SISTEMAS NUMERICOS\n",
        "\n",
        "**Definición:**\n",
        "Un sistema numérico es un conjunto de símbolos y reglas para representar y manipular números. Los sistemas numéricos más comunes incluyen el sistema decimal, binario, octal y hexadecimal.\n",
        "\n",
        "**Ejemplos:**\n",
        "\n",
        "1. **Sistema Decimal:**\n",
        "   Es el sistema de numeración más común, basado en 10 dígitos (0-9). Cada posición en un número decimal representa una potencia de 10.\n",
        "   **Ejemplo:** 245 en decimal es \\( 2 \\times 10^2 + 4 \\times 10^1 + 5 \\times 10^0 \\).\n",
        "\n",
        "2. **Sistema Binario:**\n",
        "   Utiliza solo dos dígitos (0 y 1). Es fundamental en la informática y el procesamiento digital.\n",
        "   **Ejemplo:** 1011 en binario es \\( 1 \\times 2^3 + 0 \\times 2^2 + 1 \\times 2^1 + 1 \\times 2^0 = 11 \\) en decimal.\n",
        "\n",
        "3. **Sistema Octal:**\n",
        "   Basado en 8 dígitos (0-7). Es útil en ciertas aplicaciones informáticas.\n",
        "   **Ejemplo:** 17 en octal es \\( 1 \\times 8^1 + 7 \\times 8^0 = 15 \\) en decimal.\n",
        "\n",
        "4. **Sistema Hexadecimal:**\n",
        "   Utiliza 16 símbolos (0-9 y A-F). Es ampliamente utilizado en la programación y en la representación de direcciones de memoria.\n",
        "   **Ejemplo:** 1A3 en hexadecimal es \\( 1 \\times 16^2 + 10 \\times 16^1 + 3 \\times 16^0 = 419 \\) en decimal.\n",
        "\n",
        "Relación entre Algoritmos y Sistemas Numéricos\n",
        "\n",
        "Los algoritmos a menudo operan sobre datos representados en diferentes sistemas numéricos. Por ejemplo:\n",
        "\n",
        "- **Algoritmo de conversión de decimal a binario:**\n",
        "  Convierte un número en decimal a su equivalente en binario dividiendo el número por 2 y registrando los restos.\n",
        "  **Pasos:**\n",
        "  1. Tomar el número decimal y dividirlo por 2.\n",
        "  2. Registrar el resto.\n",
        "  3. Repetir con el cociente hasta que sea 0.\n",
        "  4. El número binario es la secuencia de restos leída de abajo hacia arriba.\n",
        "\n",
        "Estos conceptos son fundamentales en la informática, matemáticas y diversas aplicaciones tecnológicas."
      ],
      "metadata": {
        "id": "A6hz0vl0W6A1"
      }
    },
    {
      "cell_type": "markdown",
      "source": [
        "Ejercicio: Conversión de Decimal a Binario y Ordenamiento de una Lista\n",
        "\n",
        "Objetivo:\n",
        "\n",
        "Convertir un número decimal a su representación binaria.\n",
        "Ordenar una lista de números decimales utilizando el algoritmo de ordenamiento por inserción.\n",
        "Instrucciones:\n",
        "\n",
        "-Implementa una función para convertir un número decimal a binario.\n",
        "\n",
        "-Implementa una función de ordenamiento por inserción.\n",
        "Aplica estas funciones a una lista de números decimales y muestra los resultados."
      ],
      "metadata": {
        "id": "oMAkx4Y4hxTa"
      }
    },
    {
      "cell_type": "code",
      "source": [
        "def decimal_a_binario(n):\n",
        "    \"\"\"Convierte un número decimal a binario.\"\"\"\n",
        "    if n == 0:\n",
        "        return \"0\"\n",
        "    binario = \"\"\n",
        "    while n > 0:\n",
        "        binario = str(n % 2) + binario\n",
        "        n = n // 2\n",
        "    return binario\n",
        "\n",
        "def ordenamiento_por_insercion(lista):\n",
        "    \"\"\"Ordena una lista de números utilizando el algoritmo de ordenamiento por inserción.\"\"\"\n",
        "    for i in range(1, len(lista)):\n",
        "        key = lista[i]\n",
        "        j = i - 1\n",
        "        while j >= 0 and key < lista[j]:\n",
        "            lista[j + 1] = lista[j]\n",
        "            j -= 1\n",
        "        lista[j + 1] = key\n",
        "    return lista\n",
        "\n",
        "# Lista de números decimales\n",
        "numeros = [34, 7, 23, 32, 5, 62]\n",
        "\n",
        "# Conversión de cada número a binario\n",
        "numeros_binarios = [decimal_a_binario(num) for num in numeros]\n",
        "\n",
        "# Ordenamiento de la lista de números decimales\n",
        "numeros_ordenados = ordenamiento_por_insercion(numeros)\n",
        "\n",
        "print(\"Números decimales originales:\", numeros)\n",
        "print(\"Números en binario:\", numeros_binarios)\n",
        "print(\"Números ordenados:\", numeros_ordenados)"
      ],
      "metadata": {
        "colab": {
          "base_uri": "https://localhost:8080/"
        },
        "id": "7xC5hN4Mh75W",
        "outputId": "6d0784e6-224c-4f98-e254-5d6fc9763eed"
      },
      "execution_count": null,
      "outputs": [
        {
          "output_type": "stream",
          "name": "stdout",
          "text": [
            "Números decimales originales: [5, 7, 23, 32, 34, 62]\n",
            "Números en binario: ['100010', '111', '10111', '100000', '101', '111110']\n",
            "Números ordenados: [5, 7, 23, 32, 34, 62]\n"
          ]
        }
      ]
    },
    {
      "cell_type": "markdown",
      "source": [
        "Explicación\n",
        "\n",
        "Función decimal_a_binario:\n",
        "\n",
        "\n",
        "Convierte un número decimal a su representación binaria.\n",
        "Usa un bucle while para dividir el número por 2 y registrar los restos, construyendo así el número binario de derecha a izquierda.\n",
        "Función ordenamiento_por_insercion:\n",
        "\n",
        "-Implementa el algoritmo de ordenamiento por inserción.\n",
        "Itera a través de la lista, tomando cada elemento y comparándolo con los elementos anteriores para insertarlo en la posición correcta.\n",
        "Aplicación de las funciones:\n",
        "\n",
        "-Se crea una lista de números decimales.\n",
        "Se convierte cada número de la lista a su representación binaria.\n",
        "Se ordena la lista de números decimales utilizando el algoritmo de ordenamiento por inserción.\n",
        "Se imprimen los resultados.\n",
        "Este ejercicio combina la conversión entre sistemas numéricos y la aplicación de un algoritmo de ordenamiento, demostrando su relación y utilidad en la programación.\n",
        "\n",
        "\n",
        "\n",
        "\n",
        "\n",
        "\n"
      ],
      "metadata": {
        "id": "5UmviJvDiIMR"
      }
    }
  ]
}